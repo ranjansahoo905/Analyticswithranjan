{
  "nbformat": 4,
  "nbformat_minor": 0,
  "metadata": {
    "colab": {
      "provenance": [],
      "authorship_tag": "ABX9TyPXEU9+TyC2TEVnzlGSHmfb",
      "include_colab_link": true
    },
    "kernelspec": {
      "name": "python3",
      "display_name": "Python 3"
    },
    "language_info": {
      "name": "python"
    }
  },
  "cells": [
    {
      "cell_type": "markdown",
      "metadata": {
        "id": "view-in-github",
        "colab_type": "text"
      },
      "source": [
        "<a href=\"https://colab.research.google.com/github/ranjansahoo905/Analyticswithranjan/blob/main/Saubhagya_ranjan_Assignment_2.ipynb\" target=\"_parent\"><img src=\"https://colab.research.google.com/assets/colab-badge.svg\" alt=\"Open In Colab\"/></a>"
      ]
    },
    {
      "cell_type": "code",
      "source": [
        "## Assignment 2 - slicing"
      ],
      "metadata": {
        "id": "Kts3eYUH-_dG"
      },
      "execution_count": 3,
      "outputs": []
    },
    {
      "cell_type": "code",
      "source": [
        "## part 1"
      ],
      "metadata": {
        "id": "icilIOQTCp5a"
      },
      "execution_count": 4,
      "outputs": []
    },
    {
      "cell_type": "code",
      "source": [
        "s = \"Hellow world!\""
      ],
      "metadata": {
        "id": "SsKkfhI_Cvus"
      },
      "execution_count": 5,
      "outputs": []
    },
    {
      "cell_type": "code",
      "source": [
        "s[:] # entire string"
      ],
      "metadata": {
        "colab": {
          "base_uri": "https://localhost:8080/",
          "height": 35
        },
        "id": "3KtlQu3kC1d2",
        "outputId": "e36df8b5-fd0e-4d15-da61-1391721d4114"
      },
      "execution_count": 16,
      "outputs": [
        {
          "output_type": "execute_result",
          "data": {
            "text/plain": [
              "'Hellow world!'"
            ],
            "application/vnd.google.colaboratory.intrinsic+json": {
              "type": "string"
            }
          },
          "metadata": {},
          "execution_count": 16
        }
      ]
    },
    {
      "cell_type": "code",
      "source": [
        "s[:5] # first 5 charecter"
      ],
      "metadata": {
        "colab": {
          "base_uri": "https://localhost:8080/",
          "height": 35
        },
        "id": "ouh2euNVC66T",
        "outputId": "faeadea4-cb27-4ee6-c044-f8ea09314998"
      },
      "execution_count": 11,
      "outputs": [
        {
          "output_type": "execute_result",
          "data": {
            "text/plain": [
              "'Hello'"
            ],
            "application/vnd.google.colaboratory.intrinsic+json": {
              "type": "string"
            }
          },
          "metadata": {},
          "execution_count": 11
        }
      ]
    },
    {
      "cell_type": "code",
      "source": [
        "s[-5:] # last 5 charecter"
      ],
      "metadata": {
        "colab": {
          "base_uri": "https://localhost:8080/",
          "height": 35
        },
        "id": "tzyEJqxoDGnp",
        "outputId": "a01c8bf1-9dc3-4c1e-8bb5-19f30833cb0b"
      },
      "execution_count": 15,
      "outputs": [
        {
          "output_type": "execute_result",
          "data": {
            "text/plain": [
              "'orld!'"
            ],
            "application/vnd.google.colaboratory.intrinsic+json": {
              "type": "string"
            }
          },
          "metadata": {},
          "execution_count": 15
        }
      ]
    },
    {
      "cell_type": "code",
      "source": [
        "print (s[1:-1]) # skips first and last charecter"
      ],
      "metadata": {
        "colab": {
          "base_uri": "https://localhost:8080/"
        },
        "id": "6pCndZ2KDOkX",
        "outputId": "394019aa-9c04-416f-da72-e5307bafefd7"
      },
      "execution_count": 21,
      "outputs": [
        {
          "output_type": "stream",
          "name": "stdout",
          "text": [
            "ellow world\n"
          ]
        }
      ]
    },
    {
      "cell_type": "code",
      "source": [
        "print (s[::2]) ## every second charecter"
      ],
      "metadata": {
        "colab": {
          "base_uri": "https://localhost:8080/"
        },
        "id": "JWcHGCqqD8PA",
        "outputId": "937f64f0-3af1-4785-df0c-c36e79ab613f"
      },
      "execution_count": 24,
      "outputs": [
        {
          "output_type": "stream",
          "name": "stdout",
          "text": [
            "Hlo ol!\n"
          ]
        }
      ]
    },
    {
      "cell_type": "code",
      "source": [
        "# part 2"
      ],
      "metadata": {
        "id": "QIQ8cUZnEH9M"
      },
      "execution_count": 25,
      "outputs": []
    },
    {
      "cell_type": "code",
      "source": [
        "print (s[-3:]) # last 3 charecters"
      ],
      "metadata": {
        "colab": {
          "base_uri": "https://localhost:8080/"
        },
        "id": "3wApPEhREV9N",
        "outputId": "4fb5ab3b-e4ee-47df-a782-968be42f9f93"
      },
      "execution_count": 28,
      "outputs": [
        {
          "output_type": "stream",
          "name": "stdout",
          "text": [
            "ld!\n"
          ]
        }
      ]
    },
    {
      "cell_type": "code",
      "source": [
        "print (s[:-2]) # all except the last 2"
      ],
      "metadata": {
        "colab": {
          "base_uri": "https://localhost:8080/"
        },
        "id": "N3oFV-g7EYo5",
        "outputId": "3914ca0e-2ba0-4d09-b7ea-88ffcb435d53"
      },
      "execution_count": 30,
      "outputs": [
        {
          "output_type": "stream",
          "name": "stdout",
          "text": [
            "Hellow worl\n"
          ]
        }
      ]
    },
    {
      "cell_type": "code",
      "source": [
        "print (s[::-1]) # reversed"
      ],
      "metadata": {
        "colab": {
          "base_uri": "https://localhost:8080/"
        },
        "id": "nM8qgMQ3Eonx",
        "outputId": "1af9e0a7-f0cc-4921-a0c7-48841f4f77e3"
      },
      "execution_count": 33,
      "outputs": [
        {
          "output_type": "stream",
          "name": "stdout",
          "text": [
            "!dlrow wolleH\n"
          ]
        }
      ]
    },
    {
      "cell_type": "code",
      "source": [
        "s2 = \"The quick brown fox jumps over the lazy dog\""
      ],
      "metadata": {
        "id": "5p6ETztMFHxS"
      },
      "execution_count": 35,
      "outputs": []
    },
    {
      "cell_type": "code",
      "source": [
        "print (s2[4:9]) # print quick"
      ],
      "metadata": {
        "colab": {
          "base_uri": "https://localhost:8080/"
        },
        "id": "_R3wWLKcFYTW",
        "outputId": "3249c7f6-bf07-4682-b3aa-ebcc138a37b3"
      },
      "execution_count": 50,
      "outputs": [
        {
          "output_type": "stream",
          "name": "stdout",
          "text": [
            "quick\n"
          ]
        }
      ]
    },
    {
      "cell_type": "code",
      "source": [
        "print (s2[-8:-4]) # print lazy"
      ],
      "metadata": {
        "colab": {
          "base_uri": "https://localhost:8080/"
        },
        "id": "4W9d6Xo3FjEv",
        "outputId": "c5875c3c-969c-4073-8651-10604b2b2838"
      },
      "execution_count": 57,
      "outputs": [
        {
          "output_type": "stream",
          "name": "stdout",
          "text": [
            "lazy\n"
          ]
        }
      ]
    },
    {
      "cell_type": "code",
      "source": [
        "print (s2[10:-18]) # printing brown fox jums"
      ],
      "metadata": {
        "colab": {
          "base_uri": "https://localhost:8080/"
        },
        "id": "TIjE3eDIGGA-",
        "outputId": "949721da-b158-4c4d-e4d0-0b056dc26c8f"
      },
      "execution_count": 63,
      "outputs": [
        {
          "output_type": "stream",
          "name": "stdout",
          "text": [
            "brown fox jumps\n"
          ]
        }
      ]
    },
    {
      "cell_type": "code",
      "source": [
        "# step slicing"
      ],
      "metadata": {
        "id": "VFEP4ufqGnab"
      },
      "execution_count": 64,
      "outputs": []
    },
    {
      "cell_type": "code",
      "source": [
        "print (s2[::3]) #every 3rd charecter"
      ],
      "metadata": {
        "colab": {
          "base_uri": "https://localhost:8080/"
        },
        "id": "sPcsBy1CG14P",
        "outputId": "d99e3ee4-bc4e-4f59-84e6-d835c183dd1e"
      },
      "execution_count": 66,
      "outputs": [
        {
          "output_type": "stream",
          "name": "stdout",
          "text": [
            "T i o xusv ea g\n"
          ]
        }
      ]
    },
    {
      "cell_type": "code",
      "source": [
        "print (s2[1::3]) # every 3rd charecter from 2nd charecter"
      ],
      "metadata": {
        "colab": {
          "base_uri": "https://localhost:8080/"
        },
        "id": "PSbxQ8tLHTj2",
        "outputId": "600840c3-1147-4d71-c0a2-7cc3084be3a9"
      },
      "execution_count": 69,
      "outputs": [
        {
          "output_type": "stream",
          "name": "stdout",
          "text": [
            "hqcbwf m et zd\n"
          ]
        }
      ]
    },
    {
      "cell_type": "code",
      "source": [
        "print (s2[::-2]) # string reversed stepping by 2"
      ],
      "metadata": {
        "colab": {
          "base_uri": "https://localhost:8080/"
        },
        "id": "fpG9WDCcHcaE",
        "outputId": "ead46758-b4d2-4a5f-f35a-1ae26bc8d569"
      },
      "execution_count": 70,
      "outputs": [
        {
          "output_type": "stream",
          "name": "stdout",
          "text": [
            "gdya h eosmjxfnobkiqeT\n"
          ]
        }
      ]
    },
    {
      "cell_type": "code",
      "source": [
        "# part 3"
      ],
      "metadata": {
        "id": "wGjUGGQtH2jN"
      },
      "execution_count": 71,
      "outputs": []
    },
    {
      "cell_type": "code",
      "source": [
        "s3 = \"2024-09-01,Sunny,25°C\""
      ],
      "metadata": {
        "id": "rTispe1oH8Dh"
      },
      "execution_count": 72,
      "outputs": []
    },
    {
      "cell_type": "code",
      "source": [
        "print (s3[:10]) # date"
      ],
      "metadata": {
        "colab": {
          "base_uri": "https://localhost:8080/"
        },
        "id": "ZABNazE0IA_3",
        "outputId": "c8b8d8cc-f850-4c11-b469-38de13581361"
      },
      "execution_count": 75,
      "outputs": [
        {
          "output_type": "stream",
          "name": "stdout",
          "text": [
            "2024-09-01\n"
          ]
        }
      ]
    },
    {
      "cell_type": "code",
      "source": [
        "print (s3[11:-5]) # condition"
      ],
      "metadata": {
        "colab": {
          "base_uri": "https://localhost:8080/"
        },
        "id": "_GLtm3dDILJ_",
        "outputId": "9184a0ca-c7a1-4db7-bb0a-3320f314ba68"
      },
      "execution_count": 79,
      "outputs": [
        {
          "output_type": "stream",
          "name": "stdout",
          "text": [
            "Sunny\n"
          ]
        }
      ]
    },
    {
      "cell_type": "code",
      "source": [
        "print (s3[-4:])  #temparature"
      ],
      "metadata": {
        "colab": {
          "base_uri": "https://localhost:8080/"
        },
        "id": "WJjk3RxWIVp2",
        "outputId": "1a9fec2a-b753-4edc-aad5-7beb978e5aa7"
      },
      "execution_count": 84,
      "outputs": [
        {
          "output_type": "stream",
          "name": "stdout",
          "text": [
            "25°C\n"
          ]
        }
      ]
    },
    {
      "cell_type": "code",
      "source": [],
      "metadata": {
        "id": "EFugirmUIjAJ"
      },
      "execution_count": null,
      "outputs": []
    }
  ]
}