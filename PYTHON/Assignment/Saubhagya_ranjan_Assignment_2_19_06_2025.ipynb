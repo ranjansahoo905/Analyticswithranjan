{
  "nbformat": 4,
  "nbformat_minor": 0,
  "metadata": {
    "colab": {
      "provenance": []
    },
    "kernelspec": {
      "name": "python3",
      "display_name": "Python 3"
    },
    "language_info": {
      "name": "python"
    }
  },
  "cells": [
    {
      "cell_type": "code",
      "source": [
        "## Assignment 2 - slicing"
      ],
      "metadata": {
        "id": "Kts3eYUH-_dG"
      },
      "execution_count": 3,
      "outputs": []
    },
    {
      "cell_type": "code",
      "source": [
        "## part 1"
      ],
      "metadata": {
        "id": "icilIOQTCp5a"
      },
      "execution_count": 4,
      "outputs": []
    },
    {
      "cell_type": "code",
      "source": [
        "s = \"Hellow world!\""
      ],
      "metadata": {
        "id": "SsKkfhI_Cvus"
      },
      "execution_count": 5,
      "outputs": []
    },
    {
      "cell_type": "code",
      "source": [
        "s[:] # entire string"
      ],
      "metadata": {
        "colab": {
          "base_uri": "https://localhost:8080/",
          "height": 35
        },
        "id": "3KtlQu3kC1d2",
        "outputId": "e36df8b5-fd0e-4d15-da61-1391721d4114"
      },
      "execution_count": 16,
      "outputs": [
        {
          "output_type": "execute_result",
          "data": {
            "text/plain": [
              "'Hellow world!'"
            ],
            "application/vnd.google.colaboratory.intrinsic+json": {
              "type": "string"
            }
          },
          "metadata": {},
          "execution_count": 16
        }
      ]
    },
    {
      "cell_type": "code",
      "source": [
        "s[:5] # first 5 charecter"
      ],
      "metadata": {
        "colab": {
          "base_uri": "https://localhost:8080/",
          "height": 35
        },
        "id": "ouh2euNVC66T",
        "outputId": "faeadea4-cb27-4ee6-c044-f8ea09314998"
      },
      "execution_count": 11,
      "outputs": [
        {
          "output_type": "execute_result",
          "data": {
            "text/plain": [
              "'Hello'"
            ],
            "application/vnd.google.colaboratory.intrinsic+json": {
              "type": "string"
            }
          },
          "metadata": {},
          "execution_count": 11
        }
      ]
    },
    {
      "cell_type": "code",
      "source": [
        "s[-5:] # last 5 charecter"
      ],
      "metadata": {
        "colab": {
          "base_uri": "https://localhost:8080/",
          "height": 35
        },
        "id": "tzyEJqxoDGnp",
        "outputId": "a01c8bf1-9dc3-4c1e-8bb5-19f30833cb0b"
      },
      "execution_count": 15,
      "outputs": [
        {
          "output_type": "execute_result",
          "data": {
            "text/plain": [
              "'orld!'"
            ],
            "application/vnd.google.colaboratory.intrinsic+json": {
              "type": "string"
            }
          },
          "metadata": {},
          "execution_count": 15
        }
      ]
    },
    {
      "cell_type": "code",
      "source": [
        "print (s[1:-1]) # skips first and last charecter"
      ],
      "metadata": {
        "colab": {
          "base_uri": "https://localhost:8080/"
        },
        "id": "6pCndZ2KDOkX",
        "outputId": "394019aa-9c04-416f-da72-e5307bafefd7"
      },
      "execution_count": 21,
      "outputs": [
        {
          "output_type": "stream",
          "name": "stdout",
          "text": [
            "ellow world\n"
          ]
        }
      ]
    },
    {
      "cell_type": "code",
      "source": [
        "print (s[::2]) ## every second charecter"
      ],
      "metadata": {
        "colab": {
          "base_uri": "https://localhost:8080/"
        },
        "id": "JWcHGCqqD8PA",
        "outputId": "937f64f0-3af1-4785-df0c-c36e79ab613f"
      },
      "execution_count": 24,
      "outputs": [
        {
          "output_type": "stream",
          "name": "stdout",
          "text": [
            "Hlo ol!\n"
          ]
        }
      ]
    },
    {
      "cell_type": "code",
      "source": [
        "# part 2"
      ],
      "metadata": {
        "id": "QIQ8cUZnEH9M"
      },
      "execution_count": 25,
      "outputs": []
    },
    {
      "cell_type": "code",
      "source": [
        "print (s[-3:]) # last 3 charecters"
      ],
      "metadata": {
        "colab": {
          "base_uri": "https://localhost:8080/"
        },
        "id": "3wApPEhREV9N",
        "outputId": "4fb5ab3b-e4ee-47df-a782-968be42f9f93"
      },
      "execution_count": 28,
      "outputs": [
        {
          "output_type": "stream",
          "name": "stdout",
          "text": [
            "ld!\n"
          ]
        }
      ]
    },
    {
      "cell_type": "code",
      "source": [
        "print (s[:-2]) # all except the last 2"
      ],
      "metadata": {
        "colab": {
          "base_uri": "https://localhost:8080/"
        },
        "id": "N3oFV-g7EYo5",
        "outputId": "3914ca0e-2ba0-4d09-b7ea-88ffcb435d53"
      },
      "execution_count": 30,
      "outputs": [
        {
          "output_type": "stream",
          "name": "stdout",
          "text": [
            "Hellow worl\n"
          ]
        }
      ]
    },
    {
      "cell_type": "code",
      "source": [
        "print (s[::-1]) # reversed"
      ],
      "metadata": {
        "colab": {
          "base_uri": "https://localhost:8080/"
        },
        "id": "nM8qgMQ3Eonx",
        "outputId": "1af9e0a7-f0cc-4921-a0c7-48841f4f77e3"
      },
      "execution_count": 33,
      "outputs": [
        {
          "output_type": "stream",
          "name": "stdout",
          "text": [
            "!dlrow wolleH\n"
          ]
        }
      ]
    },
    {
      "cell_type": "code",
      "source": [
        "s2 = \"The quick brown fox jumps over the lazy dog\""
      ],
      "metadata": {
        "id": "5p6ETztMFHxS"
      },
      "execution_count": 35,
      "outputs": []
    },
    {
      "cell_type": "code",
      "source": [
        "print (s2[4:9]) # print quick"
      ],
      "metadata": {
        "colab": {
          "base_uri": "https://localhost:8080/"
        },
        "id": "_R3wWLKcFYTW",
        "outputId": "3249c7f6-bf07-4682-b3aa-ebcc138a37b3"
      },
      "execution_count": 50,
      "outputs": [
        {
          "output_type": "stream",
          "name": "stdout",
          "text": [
            "quick\n"
          ]
        }
      ]
    },
    {
      "cell_type": "code",
      "source": [
        "print (s2[-8:-4]) # print lazy"
      ],
      "metadata": {
        "colab": {
          "base_uri": "https://localhost:8080/"
        },
        "id": "4W9d6Xo3FjEv",
        "outputId": "c5875c3c-969c-4073-8651-10604b2b2838"
      },
      "execution_count": 57,
      "outputs": [
        {
          "output_type": "stream",
          "name": "stdout",
          "text": [
            "lazy\n"
          ]
        }
      ]
    },
    {
      "cell_type": "code",
      "source": [
        "print (s2[10:-18]) # printing brown fox jums"
      ],
      "metadata": {
        "colab": {
          "base_uri": "https://localhost:8080/"
        },
        "id": "TIjE3eDIGGA-",
        "outputId": "949721da-b158-4c4d-e4d0-0b056dc26c8f"
      },
      "execution_count": 63,
      "outputs": [
        {
          "output_type": "stream",
          "name": "stdout",
          "text": [
            "brown fox jumps\n"
          ]
        }
      ]
    },
    {
      "cell_type": "code",
      "source": [
        "# step slicing"
      ],
      "metadata": {
        "id": "VFEP4ufqGnab"
      },
      "execution_count": 64,
      "outputs": []
    },
    {
      "cell_type": "code",
      "source": [
        "print (s2[::3]) #every 3rd charecter"
      ],
      "metadata": {
        "colab": {
          "base_uri": "https://localhost:8080/"
        },
        "id": "sPcsBy1CG14P",
        "outputId": "d99e3ee4-bc4e-4f59-84e6-d835c183dd1e"
      },
      "execution_count": 66,
      "outputs": [
        {
          "output_type": "stream",
          "name": "stdout",
          "text": [
            "T i o xusv ea g\n"
          ]
        }
      ]
    },
    {
      "cell_type": "code",
      "source": [
        "print (s2[1::3]) # every 3rd charecter from 2nd charecter"
      ],
      "metadata": {
        "colab": {
          "base_uri": "https://localhost:8080/"
        },
        "id": "PSbxQ8tLHTj2",
        "outputId": "600840c3-1147-4d71-c0a2-7cc3084be3a9"
      },
      "execution_count": 69,
      "outputs": [
        {
          "output_type": "stream",
          "name": "stdout",
          "text": [
            "hqcbwf m et zd\n"
          ]
        }
      ]
    },
    {
      "cell_type": "code",
      "source": [
        "print (s2[::-2]) # string reversed stepping by 2"
      ],
      "metadata": {
        "colab": {
          "base_uri": "https://localhost:8080/"
        },
        "id": "fpG9WDCcHcaE",
        "outputId": "ead46758-b4d2-4a5f-f35a-1ae26bc8d569"
      },
      "execution_count": 70,
      "outputs": [
        {
          "output_type": "stream",
          "name": "stdout",
          "text": [
            "gdya h eosmjxfnobkiqeT\n"
          ]
        }
      ]
    },
    {
      "cell_type": "code",
      "source": [
        "# part 3"
      ],
      "metadata": {
        "id": "wGjUGGQtH2jN"
      },
      "execution_count": 71,
      "outputs": []
    },
    {
      "cell_type": "code",
      "source": [
        "s3 = \"2024-09-01,Sunny,25°C\""
      ],
      "metadata": {
        "id": "rTispe1oH8Dh"
      },
      "execution_count": 72,
      "outputs": []
    },
    {
      "cell_type": "code",
      "source": [
        "print (s3[:10]) # date"
      ],
      "metadata": {
        "colab": {
          "base_uri": "https://localhost:8080/"
        },
        "id": "ZABNazE0IA_3",
        "outputId": "c8b8d8cc-f850-4c11-b469-38de13581361"
      },
      "execution_count": 75,
      "outputs": [
        {
          "output_type": "stream",
          "name": "stdout",
          "text": [
            "2024-09-01\n"
          ]
        }
      ]
    },
    {
      "cell_type": "code",
      "source": [
        "print (s3[11:-5]) # condition"
      ],
      "metadata": {
        "colab": {
          "base_uri": "https://localhost:8080/"
        },
        "id": "_GLtm3dDILJ_",
        "outputId": "9184a0ca-c7a1-4db7-bb0a-3320f314ba68"
      },
      "execution_count": 79,
      "outputs": [
        {
          "output_type": "stream",
          "name": "stdout",
          "text": [
            "Sunny\n"
          ]
        }
      ]
    },
    {
      "cell_type": "code",
      "source": [
        "print (s3[-4:])  #temparature"
      ],
      "metadata": {
        "colab": {
          "base_uri": "https://localhost:8080/"
        },
        "id": "WJjk3RxWIVp2",
        "outputId": "1a9fec2a-b753-4edc-aad5-7beb978e5aa7"
      },
      "execution_count": 84,
      "outputs": [
        {
          "output_type": "stream",
          "name": "stdout",
          "text": [
            "25°C\n"
          ]
        }
      ]
    },
    {
      "cell_type": "code",
      "source": [
        "s4 = \"(123) 456-7890\""
      ],
      "metadata": {
        "id": "EFugirmUIjAJ"
      },
      "execution_count": 85,
      "outputs": []
    },
    {
      "cell_type": "code",
      "source": [
        "formated_s4 = s4[1:4] + '-'+ s4[6:]"
      ],
      "metadata": {
        "id": "QUeU6ZesLOod"
      },
      "execution_count": 95,
      "outputs": []
    },
    {
      "cell_type": "code",
      "source": [
        "print (formated_s4) # reformatted string"
      ],
      "metadata": {
        "colab": {
          "base_uri": "https://localhost:8080/"
        },
        "id": "uWf7T18bLo5e",
        "outputId": "f3ee722b-cce9-4de6-b2df-53dbdfcf6cb9"
      },
      "execution_count": 97,
      "outputs": [
        {
          "output_type": "stream",
          "name": "stdout",
          "text": [
            "123-456-7890\n"
          ]
        }
      ]
    },
    {
      "cell_type": "code",
      "source": [
        "# part 4"
      ],
      "metadata": {
        "id": "ZQQ2EdlFLsr2"
      },
      "execution_count": 98,
      "outputs": []
    },
    {
      "cell_type": "code",
      "source": [
        "s5 = \"Hello, World!\""
      ],
      "metadata": {
        "id": "VuhQfea7sN98"
      },
      "execution_count": 99,
      "outputs": []
    },
    {
      "cell_type": "code",
      "source": [
        "s5_upper = s5.upper() #all to upper\n",
        "print (s5_upper)"
      ],
      "metadata": {
        "colab": {
          "base_uri": "https://localhost:8080/"
        },
        "id": "ng_URWtlsSn2",
        "outputId": "6d072e82-6d0b-4acf-f801-224289b1dd64"
      },
      "execution_count": 100,
      "outputs": [
        {
          "output_type": "stream",
          "name": "stdout",
          "text": [
            "HELLO, WORLD!\n"
          ]
        }
      ]
    },
    {
      "cell_type": "code",
      "source": [
        "s5_lower = s5.lower() # all to lower\n",
        "print (s5_lower)"
      ],
      "metadata": {
        "colab": {
          "base_uri": "https://localhost:8080/"
        },
        "id": "TdQlqsBqsoY4",
        "outputId": "34473618-3a7d-40ab-e498-c591f9dd0b7a"
      },
      "execution_count": 102,
      "outputs": [
        {
          "output_type": "stream",
          "name": "stdout",
          "text": [
            "hello, world!\n"
          ]
        }
      ]
    },
    {
      "cell_type": "code",
      "source": [
        "s5_title = s5.title() # title case\n",
        "print (s5_title)"
      ],
      "metadata": {
        "colab": {
          "base_uri": "https://localhost:8080/"
        },
        "id": "Awsdyc62ssDh",
        "outputId": "92a3b88a-2824-4e6d-b1cb-820f65754819"
      },
      "execution_count": 103,
      "outputs": [
        {
          "output_type": "stream",
          "name": "stdout",
          "text": [
            "Hello, World!\n"
          ]
        }
      ]
    },
    {
      "cell_type": "code",
      "source": [
        "s5_capitalize = s5.capitalize() # capitalize\n",
        "print (s5_capitalize)"
      ],
      "metadata": {
        "colab": {
          "base_uri": "https://localhost:8080/"
        },
        "id": "j9gfect4s966",
        "outputId": "b31ba200-60fc-4987-d6c8-a3c42cc65fae"
      },
      "execution_count": 104,
      "outputs": [
        {
          "output_type": "stream",
          "name": "stdout",
          "text": [
            "Hello, world!\n"
          ]
        }
      ]
    },
    {
      "cell_type": "code",
      "source": [
        "s2"
      ],
      "metadata": {
        "colab": {
          "base_uri": "https://localhost:8080/",
          "height": 35
        },
        "id": "4Ho-h17ztBMZ",
        "outputId": "c347c954-d719-4806-97fa-d97c724443e9"
      },
      "execution_count": 105,
      "outputs": [
        {
          "output_type": "execute_result",
          "data": {
            "text/plain": [
              "'The quick brown fox jumps over the lazy dog'"
            ],
            "application/vnd.google.colaboratory.intrinsic+json": {
              "type": "string"
            }
          },
          "metadata": {},
          "execution_count": 105
        }
      ]
    },
    {
      "cell_type": "code",
      "source": [
        "#finding the position and value"
      ],
      "metadata": {
        "id": "zS8vKRf3tKoE"
      },
      "execution_count": 107,
      "outputs": []
    },
    {
      "cell_type": "code",
      "source": [
        "p = s2.find(\"fox\")\n",
        "print (p)"
      ],
      "metadata": {
        "colab": {
          "base_uri": "https://localhost:8080/"
        },
        "id": "61H8KJsutNiw",
        "outputId": "477ec4b3-5128-4325-a9a8-2cdf0d3297ab"
      },
      "execution_count": 110,
      "outputs": [
        {
          "output_type": "stream",
          "name": "stdout",
          "text": [
            "16\n"
          ]
        }
      ]
    },
    {
      "cell_type": "code",
      "source": [
        "e = \"cat\" in s2\n",
        "print (e)\n"
      ],
      "metadata": {
        "colab": {
          "base_uri": "https://localhost:8080/"
        },
        "id": "O_Nn1xdftkQp",
        "outputId": "1982b92b-df45-4dd5-899f-b37e1e2004bc"
      },
      "execution_count": 112,
      "outputs": [
        {
          "output_type": "stream",
          "name": "stdout",
          "text": [
            "False\n"
          ]
        }
      ]
    },
    {
      "cell_type": "code",
      "source": [
        "# replace"
      ],
      "metadata": {
        "id": "mGc_33m-tzSZ"
      },
      "execution_count": 113,
      "outputs": []
    },
    {
      "cell_type": "code",
      "source": [
        "s2_replaced = s2.replace(\"fox\",\"cat\")   # replace fox with cat\n",
        "print (s2_replaced)"
      ],
      "metadata": {
        "colab": {
          "base_uri": "https://localhost:8080/"
        },
        "id": "vHaKo57huDDY",
        "outputId": "6db0a2fd-a63d-43cf-cb0c-05dae94c30b7"
      },
      "execution_count": 114,
      "outputs": [
        {
          "output_type": "stream",
          "name": "stdout",
          "text": [
            "The quick brown cat jumps over the lazy dog\n"
          ]
        }
      ]
    },
    {
      "cell_type": "code",
      "source": [
        "s2_underscored = s2.replace(\" \",\"_\") # replace space by underscore\n",
        "print (s2_underscored)"
      ],
      "metadata": {
        "colab": {
          "base_uri": "https://localhost:8080/"
        },
        "id": "-IDUeLF8uSL1",
        "outputId": "3b385e94-d46c-4268-f308-e6e57694c08f"
      },
      "execution_count": 116,
      "outputs": [
        {
          "output_type": "stream",
          "name": "stdout",
          "text": [
            "The_quick_brown_fox_jumps_over_the_lazy_dog\n"
          ]
        }
      ]
    },
    {
      "cell_type": "code",
      "source": [
        "word_list = s2.split() #split into list\n",
        "print (word_list)"
      ],
      "metadata": {
        "colab": {
          "base_uri": "https://localhost:8080/"
        },
        "id": "uHc6ddPGuha7",
        "outputId": "c615c6f7-0312-4d62-f830-bd2f79283ff5"
      },
      "execution_count": 119,
      "outputs": [
        {
          "output_type": "stream",
          "name": "stdout",
          "text": [
            "['The', 'quick', 'brown', 'fox', 'jumps', 'over', 'the', 'lazy', 'dog']\n"
          ]
        }
      ]
    },
    {
      "cell_type": "code",
      "source": [
        "word_list2 = s2.split(\"o\") # split by o\n",
        "print (word_list2)"
      ],
      "metadata": {
        "colab": {
          "base_uri": "https://localhost:8080/"
        },
        "id": "ERAuVwwruxts",
        "outputId": "056d8539-0838-4ef9-f460-640f45bf407f"
      },
      "execution_count": 124,
      "outputs": [
        {
          "output_type": "stream",
          "name": "stdout",
          "text": [
            "['The quick br', 'wn f', 'x jumps ', 'ver the lazy d', 'g']\n"
          ]
        }
      ]
    },
    {
      "cell_type": "code",
      "source": [
        "s6 =[\"The\", \"quick\", \"brown\", \"fox\"]"
      ],
      "metadata": {
        "id": "hMqKaMe6vFJl"
      },
      "execution_count": 121,
      "outputs": []
    },
    {
      "cell_type": "code",
      "source": [
        "print (s6)"
      ],
      "metadata": {
        "colab": {
          "base_uri": "https://localhost:8080/"
        },
        "id": "m-kZCEMdvQbz",
        "outputId": "98b9b784-a44e-4e4c-e72e-f38209beb805"
      },
      "execution_count": 122,
      "outputs": [
        {
          "output_type": "stream",
          "name": "stdout",
          "text": [
            "['The', 'quick', 'brown', 'fox']\n"
          ]
        }
      ]
    },
    {
      "cell_type": "code",
      "source": [
        "s6_space = \" \".join(s6) # join by space\n",
        "print (s6_space)"
      ],
      "metadata": {
        "colab": {
          "base_uri": "https://localhost:8080/"
        },
        "id": "2Ni5Z7fXvTYl",
        "outputId": "3879e084-36a1-490f-8139-5cbf6c5a4bba"
      },
      "execution_count": 125,
      "outputs": [
        {
          "output_type": "stream",
          "name": "stdout",
          "text": [
            "The quick brown fox\n"
          ]
        }
      ]
    },
    {
      "cell_type": "code",
      "source": [
        "s6_hyphen = \"-\".join(s6)\n",
        "print (s6_hyphen)"
      ],
      "metadata": {
        "colab": {
          "base_uri": "https://localhost:8080/"
        },
        "id": "wAqfcvYZvjvi",
        "outputId": "fb8eab6f-af2b-41eb-a48b-33a381a8e505"
      },
      "execution_count": 126,
      "outputs": [
        {
          "output_type": "stream",
          "name": "stdout",
          "text": [
            "The-quick-brown-fox\n"
          ]
        }
      ]
    },
    {
      "cell_type": "code",
      "source": [],
      "metadata": {
        "id": "rYIYb0tfvy9K"
      },
      "execution_count": null,
      "outputs": []
    }
  ]
}