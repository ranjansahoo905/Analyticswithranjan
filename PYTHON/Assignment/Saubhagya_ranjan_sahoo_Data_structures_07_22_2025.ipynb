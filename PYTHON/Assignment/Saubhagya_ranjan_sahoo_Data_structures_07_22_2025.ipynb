{
  "nbformat": 4,
  "nbformat_minor": 0,
  "metadata": {
    "colab": {
      "provenance": []
    },
    "kernelspec": {
      "name": "python3",
      "display_name": "Python 3"
    },
    "language_info": {
      "name": "python"
    }
  },
  "cells": [
    {
      "cell_type": "code",
      "execution_count": 18,
      "metadata": {
        "id": "2halce-q432d"
      },
      "outputs": [],
      "source": [
        "user_posts={}"
      ]
    },
    {
      "cell_type": "code",
      "source": [
        "user='Ranjan'\n",
        "timestamp = '2025-07-22 10:00'\n",
        "message = 'Good moening!'\n",
        "if user in user_posts:\n",
        "  user_posts[user].append((timestamp,message))\n",
        "else:\n",
        "  user_posts[user] = [(timestamp,message)]\n",
        "\n",
        "user='Pooja'\n",
        "timestamp='2025-07-22 10:10'\n",
        "message = 'Hellow everyone!'\n",
        "if user in user_posts:\n",
        "  user_posts[user].append((timestamp,message))\n",
        "else:\n",
        "  user_posts[user] = [(timestamp,message)]\n",
        "\n",
        "user = 'Ranjan'\n",
        "timestamp = '2025-07-22 11:00'\n",
        "message = 'Lunch time!'\n",
        "if user in user_posts:\n",
        "  user_posts[user].append((timestamp,message))\n",
        "else:\n",
        "  user_posts[user] = [(timestamp,message)]\n",
        "\n",
        "user = 'Ranjan'\n",
        "timestamp = '2025-07-22 12:00'\n",
        "message = 'Back to work!'\n",
        "if user in user_posts:\n",
        "  user_posts[user].append((timestamp,message))\n",
        "else:\n",
        "  user_posts[user] = [(timestamp,message)]\n",
        "\n",
        "for user in user_posts:\n",
        "  if len(user_posts[user]) >0:\n",
        "    print(f\"{user}'s latest post:\",user_posts[user][-1])\n",
        "  else:\n",
        "    print(f\"{user} has no posts\")\n",
        "\n",
        "most_active_user = None\n",
        "max_posts=0\n",
        "\n",
        "for user in user_posts:\n",
        "  if len(user_posts[user])>max_posts:\n",
        "    max_posts=len(user_posts[user])\n",
        "    most_active_user = user\n",
        "if most_active_user is not None:\n",
        "  print(\"most active user:\",most_active_user)\n",
        "else:\n",
        "  print(\"no users found\")\n"
      ],
      "metadata": {
        "colab": {
          "base_uri": "https://localhost:8080/"
        },
        "id": "wLoXFtzh8IKG",
        "outputId": "712a050b-9489-459e-a766-16f71f9ced51"
      },
      "execution_count": 19,
      "outputs": [
        {
          "output_type": "stream",
          "name": "stdout",
          "text": [
            "Ranjan's latest post: ('2025-07-22 12:00', 'Back to work!')\n",
            "Pooja's latest post: ('2025-07-22 10:10', 'Hellow everyone!')\n",
            "most active user: Ranjan\n"
          ]
        }
      ]
    },
    {
      "cell_type": "code",
      "source": [],
      "metadata": {
        "id": "9-NRmdf1_CYS"
      },
      "execution_count": null,
      "outputs": []
    }
  ]
}