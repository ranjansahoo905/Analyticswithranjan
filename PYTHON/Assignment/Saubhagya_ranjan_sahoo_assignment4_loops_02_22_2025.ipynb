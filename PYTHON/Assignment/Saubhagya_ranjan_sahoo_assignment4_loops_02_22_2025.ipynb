{
  "nbformat": 4,
  "nbformat_minor": 0,
  "metadata": {
    "colab": {
      "provenance": []
    },
    "kernelspec": {
      "name": "python3",
      "display_name": "Python 3"
    },
    "language_info": {
      "name": "python"
    }
  },
  "cells": [
    {
      "cell_type": "code",
      "execution_count": null,
      "metadata": {
        "colab": {
          "base_uri": "https://localhost:8080/"
        },
        "id": "88jp9EY5f11k",
        "outputId": "9e535aa5-d678-4666-9eeb-1565cfcd26d2"
      },
      "outputs": [
        {
          "output_type": "stream",
          "name": "stdout",
          "text": [
            "1\n",
            "2\n",
            "3\n",
            "4\n",
            "5\n"
          ]
        }
      ],
      "source": [
        "##1\n",
        "numbers=[1,2,3,4,5]\n",
        "for i in numbers:\n",
        "  print(i)"
      ]
    },
    {
      "cell_type": "code",
      "source": [
        "##2\n",
        "n=[11,22,33,44,55,66,66,77]\n",
        "sum=0\n",
        "for i in n:\n",
        "  sum+=i\n",
        "print(\"the sum of all the numbers is:\",sum)"
      ],
      "metadata": {
        "colab": {
          "base_uri": "https://localhost:8080/"
        },
        "id": "TUN8BzP_gIUf",
        "outputId": "f01c090e-44bc-416f-df76-c6381acae267"
      },
      "execution_count": null,
      "outputs": [
        {
          "output_type": "stream",
          "name": "stdout",
          "text": [
            "the sum of all the numbers is: 374\n"
          ]
        }
      ]
    },
    {
      "cell_type": "code",
      "source": [
        "##3\n",
        "n=[11,22,33,44,55,66,77,88,888]\n",
        "maxn=n[0]\n",
        "for i in n:\n",
        "  if i>maxn:\n",
        "    maxn = i\n",
        "print(\"max of list is:\",maxn)\n"
      ],
      "metadata": {
        "colab": {
          "base_uri": "https://localhost:8080/"
        },
        "id": "kmod7R31gvT7",
        "outputId": "183c9b7a-c121-4e17-f59b-b02807f4bc10"
      },
      "execution_count": null,
      "outputs": [
        {
          "output_type": "stream",
          "name": "stdout",
          "text": [
            "max of list is: 888\n"
          ]
        }
      ]
    },
    {
      "cell_type": "code",
      "source": [
        "##4\n",
        "nt=(\"red\",1,\"blue\",2,5,6,\"end\")\n",
        "for i in nt:\n",
        "  print(i)"
      ],
      "metadata": {
        "colab": {
          "base_uri": "https://localhost:8080/"
        },
        "id": "EqqM_XmLh_Q8",
        "outputId": "38b25a8a-695c-4bca-8211-21f93ce089f2"
      },
      "execution_count": null,
      "outputs": [
        {
          "output_type": "stream",
          "name": "stdout",
          "text": [
            "red\n",
            "1\n",
            "blue\n",
            "2\n",
            "5\n",
            "6\n",
            "end\n"
          ]
        }
      ]
    },
    {
      "cell_type": "code",
      "source": [
        "##5\n",
        "text=(\"my\",\"name\",\"is\",\"ranjan\")\n",
        "result=\"\"\n",
        "\n",
        "for i in text:\n",
        "  result +=i+\" \"\n",
        "print(\"the concatenate tuple is:\",result)\n",
        "\n"
      ],
      "metadata": {
        "colab": {
          "base_uri": "https://localhost:8080/"
        },
        "id": "F151iH1Pi4MP",
        "outputId": "1c28c545-42a7-4305-b6f0-54e870024003"
      },
      "execution_count": null,
      "outputs": [
        {
          "output_type": "stream",
          "name": "stdout",
          "text": [
            "the concatenate tuple is: my name is ranjan \n"
          ]
        }
      ]
    },
    {
      "cell_type": "code",
      "source": [
        "##6\n",
        "n=(1,2,3,4,5,6,7,8,9)\n",
        "reverse_list = []\n",
        "for i in range(len(n)-1,-1,-1):\n",
        "  reverse_list.append(n[i])\n",
        "reverse_tuple = tuple(reverse_list)\n",
        "print(\"reverse tuple is:\",reverse_tuple)"
      ],
      "metadata": {
        "colab": {
          "base_uri": "https://localhost:8080/"
        },
        "id": "eqLdiE6imk6p",
        "outputId": "817fa797-e116-4eb1-d0ce-1570b186e7aa"
      },
      "execution_count": null,
      "outputs": [
        {
          "output_type": "stream",
          "name": "stdout",
          "text": [
            "reverse tuple is: (9, 8, 7, 6, 5, 4, 3, 2, 1)\n"
          ]
        }
      ]
    },
    {
      "cell_type": "code",
      "source": [
        "##7\n",
        "students = {\"ranjan\":88,\"pooja\":77,\"sahoo\":66,\"mini\":99}\n",
        "for i,j in students.items():\n",
        "  print(f\"{i} scored {j} marks\")"
      ],
      "metadata": {
        "colab": {
          "base_uri": "https://localhost:8080/"
        },
        "id": "CQb3IsvknETf",
        "outputId": "3cfb6df7-89eb-4dab-dd07-479437c3bc8c"
      },
      "execution_count": null,
      "outputs": [
        {
          "output_type": "stream",
          "name": "stdout",
          "text": [
            "ranjan scored 88 marks\n",
            "pooja scored 77 marks\n",
            "sahoo scored 66 marks\n",
            "mini scored 99 marks\n"
          ]
        }
      ]
    },
    {
      "cell_type": "code",
      "source": [
        "##7\n",
        "students = {\"ranjan\":88,\"pooja\":77,\"sahoo\":66,\"mini\":99}\n",
        "for i in students:\n",
        "  print(f\"{i} scored {students[i]} marks\")"
      ],
      "metadata": {
        "colab": {
          "base_uri": "https://localhost:8080/"
        },
        "id": "VjZp1YkAoQZI",
        "outputId": "7f615ea2-5bcc-4068-ee30-d5532eb8c47f"
      },
      "execution_count": null,
      "outputs": [
        {
          "output_type": "stream",
          "name": "stdout",
          "text": [
            "ranjan scored 88 marks\n",
            "pooja scored 77 marks\n",
            "sahoo scored 66 marks\n",
            "mini scored 99 marks\n"
          ]
        }
      ]
    },
    {
      "cell_type": "code",
      "source": [
        "##8\n",
        "students = {\"ranjan\":88,\"pooja\":77,\"sahoo\":66,\"mini\":99}\n",
        "sum=0\n",
        "for i in students.values():\n",
        "  sum+=i\n",
        "print(\"sum of all numbers:\",sum)"
      ],
      "metadata": {
        "colab": {
          "base_uri": "https://localhost:8080/"
        },
        "id": "-KD5IWKfpp6v",
        "outputId": "22ea757b-6c58-4362-f3ab-9141b54c8119"
      },
      "execution_count": null,
      "outputs": [
        {
          "output_type": "stream",
          "name": "stdout",
          "text": [
            "sum of all numbers: 330\n"
          ]
        }
      ]
    },
    {
      "cell_type": "code",
      "source": [
        "##8\n",
        "students = {\"ranjan\":88,\"pooja\":77,\"sahoo\":66,\"mini\":99}\n",
        "sum=0\n",
        "for i in students:\n",
        "  sum+=students[i]\n",
        "print(\"total is :\",sum)"
      ],
      "metadata": {
        "colab": {
          "base_uri": "https://localhost:8080/"
        },
        "id": "OhA3k793p4oH",
        "outputId": "660684d9-36dd-4a2a-c900-4a2d6ff9dd73"
      },
      "execution_count": null,
      "outputs": [
        {
          "output_type": "stream",
          "name": "stdout",
          "text": [
            "total is : 330\n"
          ]
        }
      ]
    },
    {
      "cell_type": "code",
      "source": [
        "##9\n",
        "students = {\"ranjan\":88,\"pooja\":77,\"sahoo\":66,\"mini\":99}\n",
        "max_score=0\n",
        "for i in students:\n",
        "  if students[i]>max_score:\n",
        "    max_score=students[i]\n",
        "print(\"max score is \",max_score)"
      ],
      "metadata": {
        "colab": {
          "base_uri": "https://localhost:8080/"
        },
        "id": "CJmMo7KHqfkY",
        "outputId": "05cc8c91-9030-4e6a-8754-8321d0ba5ccf"
      },
      "execution_count": null,
      "outputs": [
        {
          "output_type": "stream",
          "name": "stdout",
          "text": [
            "max score is  99\n"
          ]
        }
      ]
    },
    {
      "cell_type": "code",
      "source": [
        "##9\n",
        "students = {\"ranjan\":88,\"pooja\":97,\"sahoo\":66,\"mini\":87}\n",
        "max_score=0\n",
        "for i in students.values():\n",
        "  if i>max_score:\n",
        "    max_score=i\n",
        "print(\"max score is:\",max_score)"
      ],
      "metadata": {
        "colab": {
          "base_uri": "https://localhost:8080/"
        },
        "id": "rzo3fTWoq_9B",
        "outputId": "16a29605-a9ad-4470-d44e-6fc1b82d58a9"
      },
      "execution_count": 1,
      "outputs": [
        {
          "output_type": "stream",
          "name": "stdout",
          "text": [
            "max score is: 97\n"
          ]
        }
      ]
    },
    {
      "cell_type": "code",
      "source": [
        "##10\n",
        "students=[(\"A\",45),(\"B\",55),(\"C\",49),(\"D\",99),(\"E\",44),(\"F\",99)]\n",
        "\n",
        "result = {\n",
        "    \"pass\":[],\n",
        "    \"fail\":[]\n",
        "}\n",
        "\n",
        "for name,score in students:\n",
        "  if score>=50:\n",
        "    result[\"pass\"].append(name)\n",
        "  else:\n",
        "    result[\"fail\"].append(name)\n",
        "print(\"result\",result)\n",
        "\n",
        "\n",
        "\n"
      ],
      "metadata": {
        "id": "T-I5mm-9rY4L",
        "colab": {
          "base_uri": "https://localhost:8080/"
        },
        "outputId": "a1d2345b-50ce-4437-896f-55c825464fbe"
      },
      "execution_count": 5,
      "outputs": [
        {
          "output_type": "stream",
          "name": "stdout",
          "text": [
            "result {'pass': ['B', 'D', 'F'], 'fail': ['A', 'C', 'E']}\n"
          ]
        }
      ]
    },
    {
      "cell_type": "code",
      "source": [
        "##11\n",
        "my_list=[1,2,3,4,5,6,7,8,9]\n",
        "my_tuple=(4,5,6,7)\n",
        "common_element=[]\n",
        "for i in my_list:\n",
        "  if i in my_tuple:\n",
        "    common_element.append(i)\n",
        "print(\"common elements are:\",common_element)"
      ],
      "metadata": {
        "colab": {
          "base_uri": "https://localhost:8080/"
        },
        "id": "YxkLZ97d4a--",
        "outputId": "f8743e8d-f62f-4444-a996-7cdc46b97103"
      },
      "execution_count": 6,
      "outputs": [
        {
          "output_type": "stream",
          "name": "stdout",
          "text": [
            "common elements are: [4, 5, 6, 7]\n"
          ]
        }
      ]
    },
    {
      "cell_type": "code",
      "source": [],
      "metadata": {
        "id": "vM1EHuUv6NyB"
      },
      "execution_count": null,
      "outputs": []
    }
  ]
}