{
  "nbformat": 4,
  "nbformat_minor": 0,
  "metadata": {
    "colab": {
      "provenance": []
    },
    "kernelspec": {
      "name": "python3",
      "display_name": "Python 3"
    },
    "language_info": {
      "name": "python"
    }
  },
  "cells": [
    {
      "cell_type": "code",
      "execution_count": 98,
      "metadata": {
        "colab": {
          "base_uri": "https://localhost:8080/"
        },
        "id": "4aM0e3FQFqBC",
        "outputId": "97fd0294-2564-4e9c-8152-aae081c2705e"
      },
      "outputs": [
        {
          "output_type": "stream",
          "name": "stdout",
          "text": [
            "1 \n",
            "1 2 \n",
            "1 2 3 \n",
            "1 2 3 4 \n",
            "1 2 3 4 5 \n"
          ]
        }
      ],
      "source": [
        "##1\n",
        "n=5\n",
        "for i in range(n):\n",
        "  for j in range(i+1):\n",
        "    print(j+1,end=' ')\n",
        "  print()"
      ]
    },
    {
      "cell_type": "code",
      "source": [
        "##2\n",
        "n=5\n",
        "for i in range(n):\n",
        "  for j in range(i,n):\n",
        "    print('*',end=' ')\n",
        "  print()"
      ],
      "metadata": {
        "colab": {
          "base_uri": "https://localhost:8080/"
        },
        "id": "P7nXmC49K2Qx",
        "outputId": "4447cf26-989e-4181-db38-676500b0a036"
      },
      "execution_count": 99,
      "outputs": [
        {
          "output_type": "stream",
          "name": "stdout",
          "text": [
            "* * * * * \n",
            "* * * * \n",
            "* * * \n",
            "* * \n",
            "* \n"
          ]
        }
      ]
    },
    {
      "cell_type": "code",
      "source": [
        "##3\n",
        "n=5\n",
        "for i in range(n):\n",
        "  for j in range(n-i):\n",
        "    print(j+1,end=' ')\n",
        "  print()"
      ],
      "metadata": {
        "colab": {
          "base_uri": "https://localhost:8080/"
        },
        "id": "WZo4qxlNaICK",
        "outputId": "e5f0bd44-cc28-4816-ddb3-6a885889cfe1"
      },
      "execution_count": 116,
      "outputs": [
        {
          "output_type": "stream",
          "name": "stdout",
          "text": [
            "1 2 3 4 5 \n",
            "1 2 3 4 \n",
            "1 2 3 \n",
            "1 2 \n",
            "1 \n"
          ]
        }
      ]
    },
    {
      "cell_type": "code",
      "source": [
        "##4\n",
        "n=5\n",
        "for i in range(n):\n",
        "  for j in range(i,n):\n",
        "    print(' ',end=' ')\n",
        "  for j in range(i+1):\n",
        "    print('*',end=' ')\n",
        "  print()"
      ],
      "metadata": {
        "colab": {
          "base_uri": "https://localhost:8080/"
        },
        "id": "NgSUoFdoaXwb",
        "outputId": "8e9470e5-9763-4758-ccff-83dcb9ceaa87"
      },
      "execution_count": 120,
      "outputs": [
        {
          "output_type": "stream",
          "name": "stdout",
          "text": [
            "          * \n",
            "        * * \n",
            "      * * * \n",
            "    * * * * \n",
            "  * * * * * \n"
          ]
        }
      ]
    },
    {
      "cell_type": "code",
      "source": [
        "##5\n",
        "text=input(\"enter the text to be printed:\")\n",
        "text=text.upper()\n",
        "n=len(text)\n",
        "for i in range(n):\n",
        "  for j in range(i+1):\n",
        "    print(text[j],end=' ')\n",
        "  print()\n"
      ],
      "metadata": {
        "colab": {
          "base_uri": "https://localhost:8080/"
        },
        "id": "hkNOX1HHbypR",
        "outputId": "27aa4ea1-f25d-4a79-aae7-185228d4ce8f"
      },
      "execution_count": 125,
      "outputs": [
        {
          "output_type": "stream",
          "name": "stdout",
          "text": [
            "enter the text to be printed:abcdefg\n",
            "A \n",
            "A B \n",
            "A B C \n",
            "A B C D \n",
            "A B C D E \n",
            "A B C D E F \n",
            "A B C D E F G \n"
          ]
        }
      ]
    },
    {
      "cell_type": "code",
      "source": [
        "##6\n",
        "n=5\n",
        "for i in range(n):\n",
        "  for j in range(n):\n",
        "    if i==0 or i==n-1 or j==0 or j==n-1:\n",
        "      print('*',end=' ')\n",
        "    else:\n",
        "      print(' ',end=' ')\n",
        "  print()"
      ],
      "metadata": {
        "colab": {
          "base_uri": "https://localhost:8080/"
        },
        "id": "T0hzIosYdBuS",
        "outputId": "34755644-a21d-44cf-fed9-314bae0462af"
      },
      "execution_count": 127,
      "outputs": [
        {
          "output_type": "stream",
          "name": "stdout",
          "text": [
            "* * * * * \n",
            "*       * \n",
            "*       * \n",
            "*       * \n",
            "* * * * * \n"
          ]
        }
      ]
    },
    {
      "cell_type": "code",
      "source": [
        "##7\n",
        "n=7\n",
        "for i in range(n):\n",
        "  for j in range(n):\n",
        "    if i==j or i+j==n-1:\n",
        "      print('*',end=' ')\n",
        "    else:\n",
        "      print(' ',end=' ')\n",
        "  print()"
      ],
      "metadata": {
        "colab": {
          "base_uri": "https://localhost:8080/"
        },
        "id": "GDQX2dMveWAz",
        "outputId": "3341fcd5-01a9-45d6-d86e-1f21a005cc10"
      },
      "execution_count": 135,
      "outputs": [
        {
          "output_type": "stream",
          "name": "stdout",
          "text": [
            "*           * \n",
            "  *       *   \n",
            "    *   *     \n",
            "      *       \n",
            "    *   *     \n",
            "  *       *   \n",
            "*           * \n"
          ]
        }
      ]
    },
    {
      "cell_type": "code",
      "source": [
        "##8\n",
        "n=int(input(\"enter the number:\"))\n",
        "for i in range(n):\n",
        "  for s in range(n-i-1):\n",
        "    print(' ',end=' ')\n",
        "  num =1\n",
        "  for j in range(i+1):\n",
        "    print(num,end='  ')\n",
        "    num=num*(i-j)//(j+1)\n",
        "  print()"
      ],
      "metadata": {
        "colab": {
          "base_uri": "https://localhost:8080/"
        },
        "id": "uhxQkQr-f_Zl",
        "outputId": "523f5491-b64c-4429-8787-e46888e107fe"
      },
      "execution_count": 141,
      "outputs": [
        {
          "output_type": "stream",
          "name": "stdout",
          "text": [
            "enter the number:5\n",
            "        1  \n",
            "      1  1  \n",
            "    1  2  1  \n",
            "  1  3  3  1  \n",
            "1  4  6  4  1  \n"
          ]
        }
      ]
    },
    {
      "cell_type": "code",
      "source": [
        "##9\n",
        "text=\"abcde\"\n",
        "text=text.upper()\n",
        "n=len(text)\n",
        "for i in range(n):\n",
        "  for s in range(n-i-1):\n",
        "    print(' ',end='')\n",
        "  for j in range(i+1):\n",
        "    print(text[j],end=' ')\n",
        "  print()\n",
        "\n",
        "for i in range(n-2,-1,-1):\n",
        "  for s in range(n-i-1):\n",
        "    print(' ',end='')\n",
        "  for j in range(i+1):\n",
        "    print(text[j],end=' ')\n",
        "  print()\n",
        "\n"
      ],
      "metadata": {
        "colab": {
          "base_uri": "https://localhost:8080/"
        },
        "id": "B_zZMJEEiDqx",
        "outputId": "d0bcb32b-f7c2-4e8d-a89e-077885ba5e43"
      },
      "execution_count": 157,
      "outputs": [
        {
          "output_type": "stream",
          "name": "stdout",
          "text": [
            "    A \n",
            "   A B \n",
            "  A B C \n",
            " A B C D \n",
            "A B C D E \n",
            " A B C D \n",
            "  A B C \n",
            "   A B \n",
            "    A \n"
          ]
        }
      ]
    },
    {
      "cell_type": "code",
      "source": [
        "##10\n",
        "n = 5\n",
        "for i in range(n - 1):\n",
        "    for s in range(n - i - 1):\n",
        "        print(' ', end='')\n",
        "    print('*', end='')\n",
        "    if i > 0:\n",
        "        for space in range(2 * i - 1):\n",
        "            print(' ', end='')\n",
        "        print('*')\n",
        "    else:\n",
        "        print()\n",
        "\n",
        "\n",
        "print('*' * (2 * n - 1))\n",
        "\n",
        "\n",
        "for i in range(n - 2, -1, -1):\n",
        "    for s in range(n - i - 1):\n",
        "        print(' ', end='')\n",
        "    print('*', end='')\n",
        "    if i > 0:\n",
        "        for space in range(2 * i - 1):\n",
        "            print(' ', end='')\n",
        "        print('*')\n",
        "    else:\n",
        "        print()\n"
      ],
      "metadata": {
        "colab": {
          "base_uri": "https://localhost:8080/"
        },
        "id": "EeCKv7-UkvGj",
        "outputId": "7665cc3a-73ea-4da2-c613-5ad30e084e5b"
      },
      "execution_count": 161,
      "outputs": [
        {
          "output_type": "stream",
          "name": "stdout",
          "text": [
            "    *\n",
            "   * *\n",
            "  *   *\n",
            " *     *\n",
            "*********\n",
            " *     *\n",
            "  *   *\n",
            "   * *\n",
            "    *\n"
          ]
        }
      ]
    },
    {
      "cell_type": "code",
      "source": [],
      "metadata": {
        "id": "YOoMileUp67g"
      },
      "execution_count": null,
      "outputs": []
    }
  ]
}