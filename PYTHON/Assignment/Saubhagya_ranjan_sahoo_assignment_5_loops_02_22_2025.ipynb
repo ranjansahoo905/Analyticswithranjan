{
  "nbformat": 4,
  "nbformat_minor": 0,
  "metadata": {
    "colab": {
      "provenance": []
    },
    "kernelspec": {
      "name": "python3",
      "display_name": "Python 3"
    },
    "language_info": {
      "name": "python"
    }
  },
  "cells": [
    {
      "cell_type": "code",
      "execution_count": 8,
      "metadata": {
        "id": "vI1EXWnJ7s3N"
      },
      "outputs": [],
      "source": [
        "l = [1, 2, 35, 67, {\"a\": 45, \"b\": 78, \"c\": {90, 20, 45}}, (12, \"prachi\", 9022), {67, \"Anand\", 89},\n",
        "[12, \"r\",\n",
        "909]]"
      ]
    },
    {
      "cell_type": "code",
      "source": [
        "##1\n",
        "for i in l:\n",
        "  print(i)"
      ],
      "metadata": {
        "colab": {
          "base_uri": "https://localhost:8080/"
        },
        "id": "HZHyaAHe75PW",
        "outputId": "dd84684e-81d8-4c86-bc25-eb6af1424a52"
      },
      "execution_count": null,
      "outputs": [
        {
          "output_type": "stream",
          "name": "stdout",
          "text": [
            "1\n",
            "2\n",
            "35\n",
            "67\n",
            "{'a': 45, 'b': 78, 'c': {90, 20, 45}}\n",
            "(12, 'prachi', 9022)\n",
            "{89, 67, 'Anand'}\n",
            "[12, 'r', 909]\n"
          ]
        }
      ]
    },
    {
      "cell_type": "code",
      "source": [
        "##2\n",
        "for i in l:\n",
        "  print(f\"element: {i}--> type: {type(i)}\")"
      ],
      "metadata": {
        "colab": {
          "base_uri": "https://localhost:8080/"
        },
        "id": "K7Dn1BQmmNeR",
        "outputId": "6c1fb1e1-2a70-4ff9-e7f1-0d31ee0a24c7"
      },
      "execution_count": null,
      "outputs": [
        {
          "output_type": "stream",
          "name": "stdout",
          "text": [
            "element: 1--> type: <class 'int'>\n",
            "element: 2--> type: <class 'int'>\n",
            "element: 35--> type: <class 'int'>\n",
            "element: 67--> type: <class 'int'>\n",
            "element: {'a': 45, 'b': 78, 'c': {90, 20, 45}}--> type: <class 'dict'>\n",
            "element: (12, 'prachi', 9022)--> type: <class 'tuple'>\n",
            "element: {89, 67, 'Anand'}--> type: <class 'set'>\n",
            "element: [12, 'r', 909]--> type: <class 'list'>\n"
          ]
        }
      ]
    },
    {
      "cell_type": "code",
      "source": [
        "##3\n",
        "def int_exc(item):\n",
        "  if isinstance(item,int):\n",
        "    print(item)\n",
        "  elif isinstance(item,dict):\n",
        "    for value in item.values():\n",
        "      int_exc(value)\n",
        "  elif isinstance(item,(set,tuple,list)):\n",
        "    for element in item:\n",
        "      int_exc(element)\n",
        "for i in l:\n",
        "  int_exc(i)"
      ],
      "metadata": {
        "colab": {
          "base_uri": "https://localhost:8080/"
        },
        "id": "u3GE3P2dqKcr",
        "outputId": "8d70fd27-def3-4f92-d0f4-00dd614c5de0"
      },
      "execution_count": null,
      "outputs": [
        {
          "output_type": "stream",
          "name": "stdout",
          "text": [
            "1\n",
            "2\n",
            "35\n",
            "67\n",
            "45\n",
            "78\n",
            "90\n",
            "20\n",
            "45\n",
            "12\n",
            "9022\n",
            "89\n",
            "67\n",
            "12\n",
            "909\n"
          ]
        }
      ]
    },
    {
      "cell_type": "code",
      "source": [
        "##4\n",
        "def ext_str(item):\n",
        "  if isinstance(item,str):\n",
        "    print(item)\n",
        "  elif isinstance(item,dict):\n",
        "    for key in item.keys():\n",
        "      ext_str(key)\n",
        "    for valu in item.values():\n",
        "      ext_str(valu)\n",
        "  elif isinstance(item,(set,tuple,list)):\n",
        "    for element in item:\n",
        "      ext_str(element)\n",
        "for i in l:\n",
        "  ext_str(i)\n",
        "\n"
      ],
      "metadata": {
        "colab": {
          "base_uri": "https://localhost:8080/"
        },
        "id": "LREc2uAirX3d",
        "outputId": "75a7e70d-c9f7-4410-dcce-59e8578f85e3"
      },
      "execution_count": null,
      "outputs": [
        {
          "output_type": "stream",
          "name": "stdout",
          "text": [
            "a\n",
            "b\n",
            "c\n",
            "prachi\n",
            "Anand\n",
            "r\n"
          ]
        }
      ]
    },
    {
      "cell_type": "code",
      "source": [
        "##5\n",
        "\n",
        "for item in l:\n",
        "  if isinstance(item,dict):\n",
        "    print(\"dictionary found\")\n",
        "    for key,value in item.items():\n",
        "      print(f\"key : {key},value {value}\")"
      ],
      "metadata": {
        "colab": {
          "base_uri": "https://localhost:8080/"
        },
        "id": "GzHloyWlv1JU",
        "outputId": "662f9cbc-5963-4c20-f9b1-a6b021afc1fd"
      },
      "execution_count": null,
      "outputs": [
        {
          "output_type": "stream",
          "name": "stdout",
          "text": [
            "dictionary found\n",
            "key : a,value 45\n",
            "key : b,value 78\n",
            "key : c,value {90, 20, 45}\n"
          ]
        }
      ]
    },
    {
      "cell_type": "code",
      "source": [
        "##6\n",
        "for item in l:\n",
        "  if isinstance(item,set):\n",
        "    print(\"set found\")\n",
        "    for element in item:\n",
        "      print(element)\n",
        "  elif isinstance(item,dict):\n",
        "    for key,value in item.items():\n",
        "      if isinstance(value,set):\n",
        "        print(f\"set found for key'{key}':\")\n",
        "        for i in value:\n",
        "          print(i)"
      ],
      "metadata": {
        "colab": {
          "base_uri": "https://localhost:8080/"
        },
        "id": "vR3dCgofwgQ4",
        "outputId": "c5f92a2b-4004-4ae0-9e39-416bb6b38dc1"
      },
      "execution_count": null,
      "outputs": [
        {
          "output_type": "stream",
          "name": "stdout",
          "text": [
            "set found for key'c':\n",
            "90\n",
            "20\n",
            "45\n",
            "set found\n",
            "89\n",
            "67\n",
            "Anand\n"
          ]
        }
      ]
    },
    {
      "cell_type": "code",
      "source": [
        "##7\n",
        "def read_list(item):\n",
        "  if isinstance(item,dict):\n",
        "    for key in item.keys():\n",
        "      read_list(key)\n",
        "    for value in item.values():\n",
        "      read_list(value)\n",
        "  elif isinstance(item,(list,tuple,set)):\n",
        "    for e in item:\n",
        "      read_list(e)\n",
        "  else:\n",
        "    print(item)\n",
        "\n",
        "for i in l:\n",
        "    read_list(i)"
      ],
      "metadata": {
        "colab": {
          "base_uri": "https://localhost:8080/"
        },
        "id": "Iy378WNKXXF_",
        "outputId": "dfdfb335-3c31-4e1a-f363-d954c5888383"
      },
      "execution_count": 14,
      "outputs": [
        {
          "output_type": "stream",
          "name": "stdout",
          "text": [
            "1\n",
            "2\n",
            "35\n",
            "67\n",
            "a\n",
            "b\n",
            "c\n",
            "45\n",
            "78\n",
            "90\n",
            "20\n",
            "45\n",
            "12\n",
            "prachi\n",
            "9022\n",
            "89\n",
            "Anand\n",
            "67\n",
            "12\n",
            "r\n",
            "909\n"
          ]
        }
      ]
    },
    {
      "cell_type": "code",
      "source": [
        "##8\n",
        "int_count = 0\n",
        "str_count=0\n",
        "\n",
        "def count_data_type(item):\n",
        "  global int_count,str_count\n",
        "  if isinstance(item,int):\n",
        "    int_count+=1\n",
        "  elif isinstance(item,str):\n",
        "    str_count+=1\n",
        "  elif isinstance(item,dict):\n",
        "    for key in item.keys():\n",
        "      count_data_type(key)\n",
        "    for value in item.values():\n",
        "      count_data_type(value)\n",
        "  elif isinstance(item,(set,tuple,list)):\n",
        "    for element in item:\n",
        "      count_data_type(element)\n",
        "for i in l:\n",
        "  count_data_type(i)\n",
        "\n",
        "print(f\"Total integer count : {int_count}\")\n",
        "print(f\"Total string count : {str_count}\")\n",
        ""
      ],
      "metadata": {
        "colab": {
          "base_uri": "https://localhost:8080/"
        },
        "id": "tQt7dZsXYVQo",
        "outputId": "9b58cf4a-2453-43fa-c1b4-d3eb470f0489"
      },
      "execution_count": 15,
      "outputs": [
        {
          "output_type": "stream",
          "name": "stdout",
          "text": [
            "Total integer count : 15\n",
            "Total string count : 6\n"
          ]
        }
      ]
    },
    {
      "cell_type": "code",
      "source": [
        "##9\n",
        "def add_10_to_int(item):\n",
        "  if isinstance(item,int):\n",
        "    print(item+10)\n",
        "  elif isinstance(item,dict):\n",
        "    for key in item.keys():\n",
        "      add_10_to_int(key)\n",
        "    for value in item.values():\n",
        "      add_10_to_int(value)\n",
        "  elif isinstance(item,(set,tuple,list)):\n",
        "    for element in item:\n",
        "      add_10_to_int(element)\n",
        "\n",
        "for i in l:\n",
        "  add_10_to_int(i)"
      ],
      "metadata": {
        "colab": {
          "base_uri": "https://localhost:8080/"
        },
        "id": "DIDuaoOQairN",
        "outputId": "695c4108-9ddc-4162-d4fe-98ffcef07ab3"
      },
      "execution_count": 16,
      "outputs": [
        {
          "output_type": "stream",
          "name": "stdout",
          "text": [
            "11\n",
            "12\n",
            "45\n",
            "77\n",
            "55\n",
            "88\n",
            "100\n",
            "30\n",
            "55\n",
            "22\n",
            "9032\n",
            "99\n",
            "77\n",
            "22\n",
            "919\n"
          ]
        }
      ]
    },
    {
      "cell_type": "code",
      "source": [
        "##10\n",
        "\n",
        "for item in l:\n",
        "  if isinstance(item,dict):\n",
        "    for key,value in item.items():\n",
        "      if isinstance(value,set):\n",
        "        print(f\"values from set under key'{key}' greater than 30:\")\n",
        "        for element in value:\n",
        "          if isinstance(element,int) and element>30:\n",
        "            print(element)"
      ],
      "metadata": {
        "colab": {
          "base_uri": "https://localhost:8080/"
        },
        "id": "GXQCidWsbt2a",
        "outputId": "90762755-830d-478e-c861-22e50bd0aebe"
      },
      "execution_count": 17,
      "outputs": [
        {
          "output_type": "stream",
          "name": "stdout",
          "text": [
            "values from set under key'c' greater than 30:\n",
            "90\n",
            "45\n"
          ]
        }
      ]
    },
    {
      "cell_type": "code",
      "source": [],
      "metadata": {
        "id": "gRY2U3zndurE"
      },
      "execution_count": null,
      "outputs": []
    }
  ]
}