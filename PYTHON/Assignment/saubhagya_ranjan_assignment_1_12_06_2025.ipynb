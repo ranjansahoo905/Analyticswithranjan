{
 "cells": [
  {
   "cell_type": "code",
   "execution_count": 1,
   "id": "6d576b41-545d-4602-b76b-454d8eca0528",
   "metadata": {},
   "outputs": [],
   "source": [
    "#1.Define a variable in Python. Provide an example of how to create a variable thatstores your name."
   ]
  },
  {
   "cell_type": "markdown",
   "id": "41dea0fc-26b7-4b41-8a71-39f5ebd45ec4",
   "metadata": {},
   "source": [
    "1a) A variable is used to store data,we can create variable by giving it name and assigning value to it by ="
   ]
  },
  {
   "cell_type": "code",
   "execution_count": 2,
   "id": "4af791ba-526e-4ba9-8568-19543fa81189",
   "metadata": {},
   "outputs": [],
   "source": [
    "#1b) What is the difference between a variable and a constant? Can we have constants in Python?\n"
   ]
  },
  {
   "cell_type": "markdown",
   "id": "0ccbb5c2-db0a-4398-a4b0-8ca6d8171e86",
   "metadata": {},
   "source": [
    "1b) variable is names storeage whos value can be changed where as constant the value can not be changes we can not have constatnt in python"
   ]
  },
  {
   "cell_type": "code",
   "execution_count": 3,
   "id": "9406d1fe-8141-4469-82aa-54a3703f75fd",
   "metadata": {},
   "outputs": [],
   "source": [
    "#2 Working with Different Data Types\n"
   ]
  },
  {
   "cell_type": "code",
   "execution_count": 7,
   "id": "6c06c8d2-f6cf-4d85-87d7-45c9b14d9976",
   "metadata": {},
   "outputs": [],
   "source": [
    "##2a1\n",
    "var_int = 12"
   ]
  },
  {
   "cell_type": "code",
   "execution_count": 8,
   "id": "b8a947d1-0003-4e89-bafc-76f489dd260a",
   "metadata": {},
   "outputs": [],
   "source": [
    "##2a2\n",
    "var_float = 3.14"
   ]
  },
  {
   "cell_type": "code",
   "execution_count": 9,
   "id": "8c5112f2-7a6b-4ea7-a31e-b36b6c3d7f35",
   "metadata": {},
   "outputs": [],
   "source": [
    "##2a3\n",
    "var_str = 'ranjan'"
   ]
  },
  {
   "cell_type": "code",
   "execution_count": 10,
   "id": "905e4ebc-9d33-4ebe-9a88-2bd2b2ca386e",
   "metadata": {},
   "outputs": [],
   "source": [
    "##2a4\n",
    "var_bool = True"
   ]
  },
  {
   "cell_type": "code",
   "execution_count": 15,
   "id": "baa4d083-eece-4045-b2e7-06550b73ad7a",
   "metadata": {},
   "outputs": [
    {
     "data": {
      "text/plain": [
       "bool"
      ]
     },
     "execution_count": 15,
     "metadata": {},
     "output_type": "execute_result"
    }
   ],
   "source": [
    "##2b\n",
    "type(var_bool)"
   ]
  },
  {
   "cell_type": "code",
   "execution_count": 16,
   "id": "4149f34e-0b5f-4f2a-8fea-f6a2d51758da",
   "metadata": {},
   "outputs": [
    {
     "data": {
      "text/plain": [
       "int"
      ]
     },
     "execution_count": 16,
     "metadata": {},
     "output_type": "execute_result"
    }
   ],
   "source": [
    "type(var_int)"
   ]
  },
  {
   "cell_type": "code",
   "execution_count": 17,
   "id": "fc3261d1-23aa-4ac8-b32f-c7d7c9f2791e",
   "metadata": {},
   "outputs": [
    {
     "data": {
      "text/plain": [
       "str"
      ]
     },
     "execution_count": 17,
     "metadata": {},
     "output_type": "execute_result"
    }
   ],
   "source": [
    "type(var_str)"
   ]
  },
  {
   "cell_type": "code",
   "execution_count": 19,
   "id": "e3feee9d-f38c-4286-9d25-417564881bff",
   "metadata": {},
   "outputs": [
    {
     "data": {
      "text/plain": [
       "float"
      ]
     },
     "execution_count": 19,
     "metadata": {},
     "output_type": "execute_result"
    }
   ],
   "source": [
    "type(var_float)"
   ]
  },
  {
   "cell_type": "code",
   "execution_count": 20,
   "id": "9fb3c25d-214a-4e44-8e8a-e2a2f9a674c9",
   "metadata": {},
   "outputs": [],
   "source": [
    "#3a a. Explain the following arithmetic operators with examples"
   ]
  },
  {
   "cell_type": "markdown",
   "id": "3d46ecd2-8b4c-440c-ac3b-f39981934549",
   "metadata": {},
   "source": [
    "(+) adds 2 values 2+3\n",
    "(-) subtracts 2 values 2-3\n",
    "(*) multipies 2 numbers 2*#\n",
    "(/) divides 2 numbers 2/3\n",
    "(//) floor division divides 2 numbers and returns the interger part of it 5/2 returns 2 no decimals \n",
    "(%) modulus returns the reminder 5/2 returns 1 \n",
    "(**) raises first value to the 2nd a =2 b = 3 this will give a**b(2^3)\n"
   ]
  },
  {
   "cell_type": "code",
   "execution_count": 27,
   "id": "a0cfdcd4-ec4e-4c33-84c2-9816748a3225",
   "metadata": {},
   "outputs": [],
   "source": [
    "#3b b. Write a Python script to calculate the area of a rectangle using variables `length`and `width` with values 5 and 10, respectively. Use the multiplication operator.\n"
   ]
  },
  {
   "cell_type": "code",
   "execution_count": 25,
   "id": "adddc13a-8dad-41fa-b170-bb50a531005f",
   "metadata": {},
   "outputs": [
    {
     "name": "stdout",
     "output_type": "stream",
     "text": [
      "Area of the rectangle is : 50\n"
     ]
    }
   ],
   "source": [
    "l = 5\n",
    "b=10\n",
    "a = l*b\n",
    "print(\"Area of the rectangle is :\",a) "
   ]
  },
  {
   "cell_type": "code",
   "execution_count": 26,
   "id": "087abf02-c8c4-4466-a618-48f2b7455a8b",
   "metadata": {},
   "outputs": [],
   "source": [
    "#4a Comparison and Logical Operators\n"
   ]
  },
  {
   "cell_type": "markdown",
   "id": "c7f16d08-c9e1-435f-a469-285eaef90cc2",
   "metadata": {},
   "source": [
    "(==) checks if 2 values are equal 1==1\n",
    "(!=) checks if 2 values are not equal 11=45\n",
    "(>) checks if first value is gerater than the 2nd one 4>3\n",
    "(<) checks if first value is lesser than second value  3<4\n",
    "(>=) checks if first value is greater than or equal to the second value 3>=3\n",
    "(<=) checks if first value is lesser than or equal to the second value 5<=10\n"
   ]
  },
  {
   "cell_type": "code",
   "execution_count": 29,
   "id": "b1417bc6-1a67-40a9-b945-714ec7d0fe93",
   "metadata": {},
   "outputs": [],
   "source": [
    "#4b Using logical operators (`and`, `or`, `not`), write a Python script that checks if a number is positive and even.\n"
   ]
  },
  {
   "cell_type": "code",
   "execution_count": 43,
   "id": "37ab9159-beff-49d2-a1af-199be6271e3e",
   "metadata": {},
   "outputs": [],
   "source": [
    "number = 9"
   ]
  },
  {
   "cell_type": "code",
   "execution_count": 45,
   "id": "31c262e6-b6a8-4b99-9653-ea2780dd0e76",
   "metadata": {},
   "outputs": [
    {
     "name": "stdout",
     "output_type": "stream",
     "text": [
      "number is not both positive and even\n"
     ]
    }
   ],
   "source": [
    "if number > 0 and number % 2 == 0:\n",
    "    print(\"number is even and positve\")\n",
    "else :\n",
    "    print(\"number is not both positive and even\")"
   ]
  },
  {
   "cell_type": "code",
   "execution_count": 46,
   "id": "f997eb4c-bc44-4845-81a7-053f39deaba8",
   "metadata": {},
   "outputs": [],
   "source": [
    "#5a What is type casting? Explain the difference between implicit and explicit type casting with examples."
   ]
  },
  {
   "cell_type": "markdown",
   "id": "c1725f5c-5eec-4ab6-ad4d-746e8b6a659f",
   "metadata": {},
   "source": [
    "converting a value from one data type to another ex:int to str,int to float\n",
    "--implicit type cast - python automatically converts one data type to other when needed\n",
    "--explicit type cast - we have to maunally convert valur from one data type to other useing int(),float(),str()"
   ]
  },
  {
   "cell_type": "code",
   "execution_count": 49,
   "id": "855baed6-269d-46ab-8374-92b97beee88b",
   "metadata": {},
   "outputs": [],
   "source": [
    "#5b Write a Python script that:\n"
   ]
  },
  {
   "cell_type": "code",
   "execution_count": 50,
   "id": "e5ed49d2-7a85-4dc6-8fd8-84015d0260a1",
   "metadata": {},
   "outputs": [
    {
     "name": "stdout",
     "output_type": "stream",
     "text": [
      "float to int :  9\n"
     ]
    }
   ],
   "source": [
    "#5b1 Converts a float to an integer\n",
    "\n",
    "var_float = 9.1\n",
    "float_to_int = int(var_float)\n",
    "print(\"float to int : \",float_to_int)"
   ]
  },
  {
   "cell_type": "code",
   "execution_count": 52,
   "id": "1d9613a4-62a7-4a08-8fe5-ceb21d9e9ffb",
   "metadata": {},
   "outputs": [],
   "source": [
    "#5b2 Converts an integer to a string.\n",
    "var_int = 45\n",
    "int_to_str = str(var_int)\n"
   ]
  },
  {
   "cell_type": "code",
   "execution_count": 53,
   "id": "213927fb-9299-40c2-a76e-8ecda96c73f1",
   "metadata": {},
   "outputs": [],
   "source": [
    "#5b3 Converts a string to a float.\n",
    "var_str = \"5.6\"\n",
    "str_to_float = float(var_str)\n"
   ]
  },
  {
   "cell_type": "code",
   "execution_count": 57,
   "id": "54a48f94-6fc6-4884-8a90-c460989bcaae",
   "metadata": {},
   "outputs": [
    {
     "name": "stdin",
     "output_type": "stream",
     "text": [
      "Enter the first number :  10\n",
      "Enter the second number :  6\n"
     ]
    },
    {
     "name": "stdout",
     "output_type": "stream",
     "text": [
      "Addition:  16.0\n",
      "Subtraction :  4.0\n",
      "Multiplication : 60.0\n",
      "Division :  1.6666666666666667\n",
      "sum as str: 16.0\n",
      "Type of converted sum: <class 'str'>\n"
     ]
    }
   ],
   "source": [
    "#6 Practical Exercise: Mini Calculator\n",
    "num1 = float(input(\"Enter the first number : \"))\n",
    "num2 = float(input(\"Enter the second number : \"))\n",
    "sum_r = num1+num2\n",
    "print(\"Addition: \",sum_r)\n",
    "sub_r = num1-num2\n",
    "print(\"Subtraction : \",sub_r)\n",
    "multi_r = num1*num2\n",
    "print(\"Multiplication :\",multi_r)\n",
    "if num2!=0:\n",
    "    div_r = num1/num2\n",
    "    print(\"Division : \",div_r)\n",
    "else:\n",
    "    print(\"Division can not divide by Zero\")\n",
    "sum_str = str(sum_r)\n",
    "print(\"sum as str:\",sum_str)\n",
    "print(\"Type of converted sum:\",type(sum_str))"
   ]
  },
  {
   "cell_type": "code",
   "execution_count": 58,
   "id": "33117ceb-d624-4b7a-9182-499a0a2df401",
   "metadata": {},
   "outputs": [
    {
     "data": {
      "text/plain": [
       "str"
      ]
     },
     "execution_count": 58,
     "metadata": {},
     "output_type": "execute_result"
    }
   ],
   "source": [
    "type(sum_str)"
   ]
  },
  {
   "cell_type": "code",
   "execution_count": null,
   "id": "4d11b03e-c99b-40d1-b445-6029fe503d4a",
   "metadata": {},
   "outputs": [],
   "source": []
  }
 ],
 "metadata": {
  "kernelspec": {
   "display_name": "Python 3 (ipykernel)",
   "language": "python",
   "name": "python3"
  },
  "language_info": {
   "codemirror_mode": {
    "name": "ipython",
    "version": 3
   },
   "file_extension": ".py",
   "mimetype": "text/x-python",
   "name": "python",
   "nbconvert_exporter": "python",
   "pygments_lexer": "ipython3",
   "version": "3.12.7"
  }
 },
 "nbformat": 4,
 "nbformat_minor": 5
}
